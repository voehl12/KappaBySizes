{
 "cells": [
  {
   "cell_type": "code",
   "execution_count": null,
   "metadata": {},
   "outputs": [],
   "source": [
    "print('starting script')\n",
    "from galsbi import GalSBI\n",
    "import matplotlib.pyplot as plt\n",
    "import healpy as hp\n",
    "import numpy as np\n",
    "import time\n",
    "print(\"GalsBI version:\")\n",
    "maskpath = '/Users/voehl/Teaching/students/noah/circular_1000sqd_nside256.fits'\n",
    "mask = hp.fitsfunc.read_map(maskpath)\n",
    "patch_pixels = np.where(mask>0)[0]\n",
    "print('patch_pixels', patch_pixels)\n",
    "n_pixels = int(np.sum(mask[mask>0]))\n",
    "npix = len(mask)\n",
    "submasks = []\n",
    "catalog_names = []\n",
    "pixels_per_mask = 10\n",
    "cats = []\n",
    "def process_healpix_submask(submask, catalog_name):\n",
    "    model = GalSBI(\"Fischbacher+24\")\n",
    "    model(healpix_map=submask, catalog_name=catalog_name,gals_mag_max = 25)\n",
    "    cats.append(model.load_catalogs(combine=True))\n",
    "\n",
    "for i in range(n_pixels // pixels_per_mask + 1):\n",
    "    print(f\"Creating submask {i} out of {n_pixels // pixels_per_mask + 1}\")\n",
    "    submask = np.zeros(npix)\n",
    "    pixels = patch_pixels[i*pixels_per_mask : (i+1)*pixels_per_mask]\n",
    "    submask[pixels] = 1\n",
    "    submasks.append(submask)\n",
    "    catalog_names.append(f\"catalogs_pixelbatch{i}\")\n",
    "\n",
    "for i in range(len(submasks)):\n",
    "    print(f\"Processing submask {i} out of {len(submasks)}\")\n",
    "    tic = time.time()\n",
    "    process_healpix_submask(submasks[i], catalog_name=catalog_names[i])\n",
    "    toc = time.time()\n",
    "    print(f\"Time elapsed: {toc-tic} s\")\n"
   ]
  },
  {
   "cell_type": "code",
   "execution_count": null,
   "metadata": {},
   "outputs": [],
   "source": [
    "print(cats[0]['ucat galaxies'].dtype, cats[1]['ucat galaxies'].dtype)\n",
    "galaxy_list = [cats[i]['ucat galaxies'] for i in range(len(cats))]\n",
    "galaxies = np.concatenate(galaxy_list)\n",
    "\n",
    "#galaxies = cats['ucat galaxies']\n",
    "z_data = galaxies['z']\n",
    "kappa = galaxies['kappa']\n",
    "print(kappa)\n",
    "\n",
    "plt.figure(figsize=(3,2))\n",
    "plt.hist(galaxies['z'], bins=100)\n",
    "plt.xlabel(\"$z$\")\n",
    "plt.show()"
   ]
  },
  {
   "cell_type": "code",
   "execution_count": null,
   "metadata": {},
   "outputs": [],
   "source": [
    "import numpy as np\n",
    "import matplotlib.pyplot as plt\n",
    "from sklearn.mixture import GaussianMixture\n",
    "from scipy.stats import norm\n",
    "\n",
    "# Generate synthetic data\n",
    "np.random.seed(42)\n",
    "data = z_data.reshape(-1, 1)\n",
    "numbins = 5\n",
    "# Define initial means: four equally spaced points across the data range\n",
    "initial_means = np.array([0.2,0.4,0.6,1.0,2.2]).reshape(-1, 1)\n",
    "\n",
    "# Fit GMM with 4 components and manually initialized means\n",
    "gmm = GaussianMixture(n_components=numbins, means_init=initial_means, random_state=42)\n",
    "gmm.fit(data)\n",
    "\n",
    "# Predict the component labels\n",
    "# Get probability that each sample belongs to each Gaussian\n",
    "probabilities = gmm.predict_proba(data)  # Shape: (N, 4)\n",
    "print(probabilities)\n",
    "\n",
    "# Soft assignment: Randomly assign based on probabilities\n",
    "labels = np.array([np.random.choice(numbins, p=prob) for prob in probabilities])\n",
    "\n",
    "# Split data into numbins groups\n",
    "subdistributions = [data[labels == i] for i in range(numbins)]\n",
    "for distr in subdistributions:\n",
    "    print(len(distr))\n",
    "\n",
    "# Plot the results\n",
    "plt.hist(data, bins=100, alpha=0.5, label=\"Original Data\", color=\"gray\", density=False)\n",
    "x = np.linspace(min(data), max(data), 1000).reshape(-1, 1)\n",
    "densities = np.exp(gmm.score_samples(x))\n",
    "plt.plot(x, densities, label=\"GMM Fit\", color=\"black\")\n",
    "\n",
    "# Plot individual components\n",
    "for i in range(numbins):\n",
    "    plt.hist(subdistributions[i], bins=50, alpha=0.6, label=f\"Component {i+1}\", density=False)\n",
    "\n",
    "plt.scatter(gmm.means_, [0] * numbins, color='red', marker='x', s=100, label=\"Final Means\")\n",
    "plt.legend()\n",
    "plt.show()\n",
    "\n",
    "plt.figure()\n",
    "plt.hist(data, bins=50, alpha=0.5, label=\"Original Data\", color=\"gray\", density=True)\n",
    "x = np.linspace(min(data), max(data), 1000).reshape(-1, 1)\n",
    "densities = np.exp(gmm.score_samples(x))\n",
    "plt.plot(x, densities, label=\"GMM Fit\", color=\"black\")\n",
    "for i in range(numbins):\n",
    "    plt.plot(x,norm.pdf(x, gmm.means_[i], np.sqrt(gmm.covariances_[i])).ravel(), label=f\"Component {i+1}\")\n",
    "plt.show()\n"
   ]
  },
  {
   "cell_type": "code",
   "execution_count": null,
   "metadata": {},
   "outputs": [],
   "source": [
    "redshift_bin = 4\n",
    "selection = galaxies[labels == redshift_bin]\n",
    "np.save(\"catalogue_100sqd\", selection)\n",
    "print(selection)\n",
    "import healpy as hp\n",
    "print(hp.nside2resol(64, arcmin=True))"
   ]
  },
  {
   "cell_type": "code",
   "execution_count": null,
   "metadata": {},
   "outputs": [],
   "source": [
    "selection = np.load(\"catalogue_100sqd.npy\", allow_pickle=True)"
   ]
  },
  {
   "cell_type": "code",
   "execution_count": null,
   "metadata": {},
   "outputs": [],
   "source": [
    "print(selection['ra'],selection['dec'])\n",
    "\n",
    "\n",
    "plt.figure(figsize=(3,2))\n",
    "plt.hist(selection['z'], bins=100)\n",
    "plt.xlabel(\"$z$\")\n",
    "plt.show()"
   ]
  },
  {
   "cell_type": "code",
   "execution_count": null,
   "metadata": {},
   "outputs": [],
   "source": [
    "\n",
    "pixscale = 0.263\n",
    "sizes_in_arcsec = selection['r50'] * pixscale   # arcsec\n",
    "print(sizes_in_arcsec)\n",
    "lon_center = np.mean(selection['ra'])\n",
    "lat_center = np.mean(selection['dec'])\n",
    "lon_range = 1\n",
    "lat_range = 1\n",
    "ra = selection['ra']\n",
    "dec = selection['dec']\n",
    "\n",
    "theta = np.radians(90.0 - dec)  # theta = 90 - dec\n",
    "phi = np.radians(ra)            # phi = ra\n",
    "\n",
    "# Define the nside parameter (must be a power of 2)\n",
    "nside = 128\n",
    "\n",
    "# Initialize a HEALPix map with zeros\n",
    "size_map = np.zeros(hp.nside2npix(nside))\n",
    "numbers = np.zeros(hp.nside2npix(nside))\n",
    "# Convert RA and Dec to pixel indices\n",
    "pixels = hp.ang2pix(nside, theta, phi)\n",
    "\n",
    "# Fill the HEALPix map with galaxy sizes\n",
    "for pix, size in zip(pixels, sizes_in_arcsec):\n",
    "    size_map[pix] += size\n",
    "    numbers[pix] += 1\n",
    "\n",
    "mean_size_map = size_map / numbers\n",
    "overall_mean, overall_std = np.mean(sizes_in_arcsec), np.std(sizes_in_arcsec)\n",
    "print(overall_mean, overall_std)\n",
    "hp.mollview(mean_size_map, title=\"Mean Galaxy Size\", unit=\"arcsec\", cbar=True)\n",
    "\n",
    "hp.mollview(numbers, title=\"Number of Galaxies\", unit=\"galaxies\", cbar=True)\n",
    "\n",
    "hp.cartview(lonra=[lon_center-lon_range / 2, lon_center+lon_range/2], latra=[lat_center-lat_range/2, lat_center+lat_range/2], title=\"Galaxy Distribution\", cbar=False)\n",
    "hp.projscatter(selection['ra'],selection['dec'], s=10*sizes_in_arcsec,lonlat=True)\n",
    "ax = plt.gca()\n",
    "ax.set_xlabel('Right Ascension (degrees)')\n",
    "ax.set_ylabel('Declination (degrees)')\n",
    "plt.show()"
   ]
  },
  {
   "cell_type": "code",
   "execution_count": null,
   "metadata": {},
   "outputs": [],
   "source": [
    "import pyccl as ccl\n",
    "omega_m = 0.31\n",
    "omega_b = 0.046\n",
    "omega_c = omega_m - omega_b\n",
    "cosmo = ccl.Cosmology(Omega_c = omega_c, Omega_b = omega_b, h = 0.7, sigma8 = 0.8, n_s = 0.97)\n",
    "z, nz = x.ravel(), norm.pdf(x, gmm.means_[redshift_bin], np.sqrt(gmm.covariances_[redshift_bin])).ravel()\n",
    "\n",
    "lens = ccl.WeakLensingTracer(cosmo, dndz=(z, nz))\n",
    "\n",
    "ell = np.arange(2, 10000)\n",
    "cl_ee = ccl.angular_cl(cosmo, lens, lens, ell)\n",
    "print(gmm.means_[redshift_bin])\n",
    "np.savetxt('cl_kappa_mean_{:.2f}.txt'.format(gmm.means_[redshift_bin][0]), np.column_stack((ell, cl_ee)))\n"
   ]
  },
  {
   "cell_type": "code",
   "execution_count": null,
   "metadata": {},
   "outputs": [],
   "source": [
    "cl_ee = np.concatenate((np.zeros(2), cl_ee))\n",
    "kappamap = hp.synfast(cl_ee, 128, new=True) # also make lognormal map\n",
    "hp.mollview(kappamap, title=\"Convergence Map\", cbar=True)\n",
    "hp.cartview(kappamap,lonra=[lon_center-10-lon_range/2, lon_center-10+lon_range/2], latra=[lat_center-20-lat_range/2, lat_center-20+lat_range/2], title=\"kappa\", cbar=True)\n"
   ]
  },
  {
   "cell_type": "code",
   "execution_count": null,
   "metadata": {},
   "outputs": [],
   "source": [
    "galaxy_pixels = hp.ang2pix(256, selection['ra'], selection['dec'], lonlat=True)\n",
    "selection['kappa'] = kappamap[galaxy_pixels]"
   ]
  },
  {
   "cell_type": "code",
   "execution_count": null,
   "metadata": {},
   "outputs": [],
   "source": [
    "lensed_sizes = sizes_in_arcsec * (1 + selection['kappa'])\n",
    "fig, (ax1,ax2) = plt.subplots(1,2, figsize=(20,10))\n",
    "hp.cartview(lonra=[lon_center-lon_range / 2, lon_center+lon_range/2], latra=[lat_center-lat_range/2, lat_center+lat_range/2], title=\"Galaxy Distribution\", cbar=False, fig=fig, sub=(1,2,1))\n",
    "hp.projscatter(selection['ra'],selection['dec'], s=10*sizes_in_arcsec,lonlat=True)\n",
    "hp.cartview(lonra=[lon_center-lon_range / 2, lon_center+lon_range/2], latra=[lat_center-lat_range/2, lat_center+lat_range/2], title=\"Lensed Galaxy Distribution\", cbar=False, fig=fig, sub=(1,2,2))\n",
    "hp.projscatter(selection['ra'],selection['dec'], s=10*lensed_sizes,lonlat=True)\n",
    "print(np.mean(sizes_in_arcsec), np.mean(lensed_sizes))\n",
    "\n",
    "plt.figure()\n",
    "plt.hist(sizes_in_arcsec, bins=100, alpha=0.5, label=\"Original Sizes\", color=\"gray\", density=False)\n",
    "plt.hist(lensed_sizes, bins=100, alpha=0.5, label=\"Lensed Sizes\", color=\"blue\", density=False)\n",
    "plt.xlim(0, 2)\n",
    "plt.legend()\n",
    "plt.show()\n",
    "\n"
   ]
  },
  {
   "cell_type": "code",
   "execution_count": null,
   "metadata": {},
   "outputs": [],
   "source": []
  },
  {
   "cell_type": "markdown",
   "metadata": {},
   "source": [
    "compare mean size in each pixel, i.e. get all galaxies in one pixel and look at their mean, median, weighted mean size - how does it vary? compare to kappa assigned to this pixel. Increase pixel size of kappa map. \n",
    "can we weigh by overall size distribution? what would this mean? weigh most common galaxy size more or less?\n",
    "null hypothesis: mean is not changed"
   ]
  }
 ],
 "metadata": {
  "kernelspec": {
   "display_name": "galsbi",
   "language": "python",
   "name": "python3"
  },
  "language_info": {
   "codemirror_mode": {
    "name": "ipython",
    "version": 3
   },
   "file_extension": ".py",
   "mimetype": "text/x-python",
   "name": "python",
   "nbconvert_exporter": "python",
   "pygments_lexer": "ipython3",
   "version": "3.11.0"
  }
 },
 "nbformat": 4,
 "nbformat_minor": 2
}
