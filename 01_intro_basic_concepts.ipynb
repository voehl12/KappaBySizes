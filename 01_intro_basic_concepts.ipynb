{
 "cells": [
  {
   "cell_type": "markdown",
   "metadata": {},
   "source": [
    "# Tutorial 1: Basic Concepts in Convergence Mapping\n",
    "\n",
    "## Introduction\n",
    "\n",
    "Welcome to the first tutorial in the KappaBySizes series! In this tutorial, you will learn the fundamental concepts of **weak gravitational lensing** and **convergence mapping** using galaxy size distributions.\n",
    "\n",
    "### What is Weak Gravitational Lensing?\n",
    "\n",
    "Gravitational lensing occurs when massive objects (like dark matter halos) bend the light from more distant galaxies. This causes two main observable effects:\n",
    "\n",
    "1. **Shape distortion (shear)**: Galaxies appear slightly elongated\n",
    "2. **Size magnification (convergence)**: Galaxies appear slightly larger or smaller\n",
    "\n",
    "### The Convergence κ (kappa)\n",
    "\n",
    "The convergence κ quantifies the **magnification effect**. It represents the projected matter density along the line of sight:\n",
    "\n",
    "- κ > 0: Over-dense regions → galaxies appear **larger**\n",
    "- κ < 0: Under-dense regions → galaxies appear **smaller** \n",
    "- κ = 0: Average density → no magnification\n",
    "\n",
    "The relationship is: **observed_size = intrinsic_size × (1 + κ)**\n",
    "\n",
    "### Learning Objectives\n",
    "\n",
    "By the end of this tutorial, you will:\n",
    "1. Understand how to work with galaxy catalogues and HEALPix maps\n",
    "2. Visualize galaxy size distributions\n",
    "3. Generate and interpret convergence maps\n",
    "4. Observe the correlation between galaxy sizes and convergence\n",
    "\n",
    "Let's start by importing the necessary packages:"
   ]
  },
  {
   "cell_type": "code",
   "execution_count": null,
   "metadata": {},
   "outputs": [],
   "source": [
    "# Import required packages for this tutorial\n",
    "import matplotlib.pyplot as plt\n",
    "import healpy as hp  # HEALPix library for spherical maps\n",
    "import numpy as np\n",
    "\n",
    "# Set up plotting parameters for better visualization\n",
    "plt.rcParams['figure.figsize'] = (10, 6)\n",
    "plt.rcParams['font.size'] = 12\n",
    "\n",
    "print(\"All packages imported successfully!\")\n",
    "print(f\"HEALPy version: {hp.__version__}\")"
   ]
  },
  {
   "cell_type": "markdown",
   "metadata": {},
   "source": [
    "## Part 1: Understanding Galaxy Catalogues\n",
    "\n",
    "Galaxy catalogues contain information about thousands of galaxies observed in a survey. Each galaxy has properties like:\n",
    "\n",
    "- **Position**: Right Ascension (RA) and Declination (Dec) coordinates\n",
    "- **Redshift (z)**: Distance indicator \n",
    "- **Size (r50)**: Half-light radius\n",
    "- **Other properties**: Magnitude, color, etc.\n",
    "\n",
    "Let's load and explore a pre-generated galaxy catalogue:"
   ]
  },
  {
   "cell_type": "code",
   "execution_count": null,
   "metadata": {},
   "outputs": [],
   "source": [
    "# Load the galaxy catalogue\n",
    "catalogue = np.load(\"catalogue.npy\", allow_pickle=True)\n",
    "\n",
    "print(f\"Catalogue loaded successfully!\")\n",
    "print(f\"Number of galaxies: {len(catalogue)}\")\n",
    "print(f\"\\nAvailable properties: {list(catalogue.dtype.names)}\")\n",
    "\n",
    "# Display basic statistics\n",
    "print(f\"\\nBasic Statistics:\")\n",
    "print(f\"RA range: {catalogue['ra'].min():.2f} to {catalogue['ra'].max():.2f} degrees\")\n",
    "print(f\"Dec range: {catalogue['dec'].min():.2f} to {catalogue['dec'].max():.2f} degrees\")\n",
    "print(f\"Redshift range: {catalogue['z'].min():.2f} to {catalogue['z'].max():.2f}\")\n",
    "print(f\"Size range: {catalogue['r50'].min():.2f} to {catalogue['r50'].max():.2f} pixels\")"
   ]
  },
  {
   "cell_type": "markdown",
   "metadata": {},
   "source": [
    "**Note**: This galaxy catalogue is concentrated in a small region of the sky, corresponding to approximately one pixel in a HEALPix map with nside=64.\n",
    "\n",
    "### Understanding HEALPix Maps\n",
    "\n",
    "HEALPix (Hierarchical Equal Area isoLatitude Pixelization) is a standard way to divide the sphere into equal-area pixels. This is essential for cosmological analysis because:\n",
    "\n",
    "1. **Equal areas**: Each pixel covers the same area on the sky\n",
    "2. **Hierarchical**: Higher resolution maps can be created by subdividing pixels\n",
    "3. **Fast spherical harmonics**: Enables efficient power spectrum analysis"
   ]
  },
  {
   "cell_type": "markdown",
   "metadata": {},
   "source": [
    "### Essential HEALPix Functions\n",
    "\n",
    "Here are the key `healpy` functions you'll use throughout these tutorials:\n",
    "\n",
    "| Function | Purpose | Example |\n",
    "|----------|---------|----------|\n",
    "| `hp.nside2npix(nside)` | Get total number of pixels | `npix = hp.nside2npix(64)` |\n",
    "| `hp.nside2resol(nside, arcmin=True)` | Get pixel resolution | `resol = hp.nside2resol(64, arcmin=True)` |\n",
    "| `hp.ang2pix(nside, θ, φ, lonlat=True)` | Convert coordinates to pixel | `pixel = hp.ang2pix(64, ra, dec, lonlat=True)` |\n",
    "| `hp.mollview(map)` | Plot full-sky map | `hp.mollview(convergence_map)` |\n",
    "| `hp.cartview(map, lonra=[], latra=[])` | Plot rectangular projection | `hp.cartview(map, lonra=[0,10], latra=[-5,5])` |\n",
    "\n",
    "**Documentation**: https://healpy.readthedocs.io/en/latest/\n",
    "\n",
    "Let's explore these functions:"
   ]
  },
  {
   "cell_type": "code",
   "execution_count": null,
   "metadata": {},
   "outputs": [],
   "source": [
    "# Explore HEALPix parameters for different resolutions\n",
    "nsides = [64, 128, 256, 512]\n",
    "\n",
    "print(\"HEALPix Resolution Comparison:\")\n",
    "print(f\"{'Nside':<8} {'N_pixels':<12} {'Resolution (arcmin)':<20} {'Resolution (degrees)':<20}\")\n",
    "print(\"-\" * 70)\n",
    "\n",
    "for nside in nsides:\n",
    "    npix = hp.nside2npix(nside)\n",
    "    resol_arcmin = hp.nside2resol(nside, arcmin=True)\n",
    "    resol_deg = hp.nside2resol(nside, arcmin=False)\n",
    "    print(f\"{nside:<8} {npix:<12} {resol_arcmin:<20.2f} {resol_deg:<20.4f}\")\n",
    "\n",
    "# For our tutorial, we'll primarily use nside=64 and nside=256\n",
    "print(f\"\\nFor nside=64: Each pixel covers {hp.nside2resol(64, arcmin=True):.1f} arcminutes\")\n",
    "print(f\"For nside=256: Each pixel covers {hp.nside2resol(256, arcmin=True):.1f} arcminutes\")"
   ]
  },
  {
   "cell_type": "markdown",
   "metadata": {},
   "source": [
    "## Part 2: Galaxy Size Distributions\n",
    "\n",
    "Now let's examine the galaxy sizes in our catalogue. Galaxy sizes are typically measured as the half-light radius (r50) - the radius containing half of the galaxy's light.\n",
    "\n",
    "### Converting from Pixels to Physical Units\n",
    "\n",
    "The sizes in our catalogue are given in pixels. To understand the physical significance, we need to convert to angular units (arcseconds):"
   ]
  },
  {
   "cell_type": "code",
   "execution_count": null,
   "metadata": {},
   "outputs": [],
   "source": [
    "# Define the pixel scale for this simulation\n",
    "# For this simulation, 1 pixel = 0.263 arcseconds\n",
    "pixscale = 0.263  # arcsec per pixel\n",
    "\n",
    "# Convert galaxy sizes from pixels to arcseconds\n",
    "sizes_in_arcsec = catalogue['r50'] * pixscale\n",
    "\n",
    "print(f\"Pixel scale: {pixscale} arcsec/pixel\")\n",
    "print(f\"Galaxy sizes range from {sizes_in_arcsec.min():.3f} to {sizes_in_arcsec.max():.3f} arcsec\")\n",
    "print(f\"Mean galaxy size: {np.mean(sizes_in_arcsec):.3f} arcsec\")\n",
    "print(f\"Median galaxy size: {np.median(sizes_in_arcsec):.3f} arcsec\")"
   ]
  },
  {
   "cell_type": "markdown",
   "metadata": {},
   "source": [
    "### Visualizing the Size Distribution\n",
    "\n",
    "Let's plot the intrinsic size distribution s(θ). This represents the **unlensed** galaxy size distribution - what we would observe in the absence of gravitational lensing:"
   ]
  },
  {
   "cell_type": "code",
   "execution_count": null,
   "metadata": {},
   "outputs": [],
   "source": [
    "# Plot the intrinsic galaxy size distribution\n",
    "fig, (ax1, ax2) = plt.subplots(1, 2, figsize=(15, 5))\n",
    "\n",
    "# Histogram of sizes\n",
    "ax1.hist(sizes_in_arcsec, bins=50, density=True, alpha=0.7, color='skyblue', edgecolor='black')\n",
    "ax1.set_xlabel('Galaxy Size (arcsec)')\n",
    "ax1.set_ylabel('Probability Density')\n",
    "ax1.set_title('Intrinsic Galaxy Size Distribution s(θ)')\n",
    "ax1.grid(True, alpha=0.3)\n",
    "\n",
    "# Also plot on log scale to see the tail\n",
    "ax2.hist(sizes_in_arcsec, bins=50, density=True, alpha=0.7, color='lightcoral', edgecolor='black')\n",
    "ax2.set_xlabel('Galaxy Size (arcsec)')\n",
    "ax2.set_ylabel('Probability Density')\n",
    "ax2.set_title('Size Distribution (Log Scale)')\n",
    "ax2.set_yscale('log')\n",
    "ax2.grid(True, alpha=0.3)\n",
    "\n",
    "plt.tight_layout()\n",
    "plt.show()\n",
    "\n",
    "print(f\"\\n📊 Key Point: This is the 'reference' distribution that doesn't change much\")\n",
    "print(f\"when averaged over large areas, even with lensing effects!\")"
   ]
  },
  {
   "cell_type": "markdown",
   "metadata": {},
   "source": [
    "## Part 3: Convergence Maps\n",
    "\n",
    "Now let's create a convergence map. The convergence κ varies across the sky based on the matter distribution along the line of sight.\n",
    "\n",
    "### Loading the Power Spectrum\n",
    "\n",
    "We start with a theoretical convergence power spectrum, which describes how the convergence correlates as a function of angular separation:"
   ]
  },
  {
   "cell_type": "code",
   "execution_count": null,
   "metadata": {},
   "outputs": [],
   "source": [
    "# Load the convergence power spectrum\n",
    "cl_kappa_data = np.loadtxt(\"cl_kappa.txt\")\n",
    "\n",
    "# The power spectrum needs to start from ℓ=0, so we add zeros for ℓ=0,1\n",
    "cl_ee = np.concatenate((np.zeros(2), cl_kappa_data))\n",
    "\n",
    "print(f\"Power spectrum loaded with {len(cl_ee)} multipoles\")\n",
    "print(f\"ℓ range: 0 to {len(cl_ee)-1}\")\n",
    "print(f\"Power spectrum range: {cl_kappa_data.min():.2e} to {cl_kappa_data.max():.2e}\")"
   ]
  },
  {
   "cell_type": "markdown",
   "metadata": {},
   "source": [
    "### Visualizing the Power Spectrum\n",
    "\n",
    "The power spectrum tells us about the characteristic scales of structure in the convergence field:"
   ]
  },
  {
   "cell_type": "code",
   "execution_count": null,
   "metadata": {},
   "outputs": [],
   "source": [
    "# Plot the convergence power spectrum\n",
    "ell = np.arange(len(cl_ee))\n",
    "mask = ell > 1  # Skip ℓ=0,1 which we set to zero\n",
    "\n",
    "plt.figure(figsize=(10, 6))\n",
    "plt.loglog(ell[mask], cl_ee[mask], 'b-', linewidth=2, label='Convergence Power Spectrum')\n",
    "plt.xlabel('Multipole ℓ')\n",
    "plt.ylabel('C_ℓ^κκ')\n",
    "plt.title('Convergence Power Spectrum')\n",
    "plt.grid(True, alpha=0.3)\n",
    "plt.legend()\n",
    "\n",
    "# Add annotations about angular scales\n",
    "plt.axvline(x=100, color='red', linestyle='--', alpha=0.7)\n",
    "plt.axvline(x=1000, color='red', linestyle='--', alpha=0.7)\n",
    "plt.text(100, cl_ee[100], '  ~1.8°', rotation=90, fontsize=10, color='red')\n",
    "plt.text(1000, cl_ee[1000], '  ~0.18°', rotation=90, fontsize=10, color='red')\n",
    "\n",
    "plt.show()\n",
    "\n",
    "print(\"\\n🔍 Understanding the Power Spectrum:\")\n",
    "print(\"• Higher ℓ = smaller angular scales\")\n",
    "print(\"• Peak location indicates characteristic correlation scale\")\n",
    "print(\"• Angular scale ≈ 180°/ℓ\")"
   ]
  },
  {
   "cell_type": "markdown",
   "metadata": {},
   "source": [
    "### Generating a Convergence Map\n",
    "\n",
    "Now we use the power spectrum to generate a random realization of the convergence field using `hp.synfast()`:"
   ]
  },
  {
   "cell_type": "code",
   "execution_count": null,
   "metadata": {},
   "outputs": [],
   "source": [
    "# Generate a convergence map from the power spectrum\n",
    "nside_kappa = 128  # Resolution for the convergence map\n",
    "kappamap = hp.synfast(cl_ee, nside_kappa, new=True)\n",
    "\n",
    "print(f\"Generated convergence map with nside={nside_kappa}\")\n",
    "print(f\"Map statistics:\")\n",
    "print(f\"  Mean κ: {np.mean(kappamap):.4f}\")\n",
    "print(f\"  Std κ: {np.std(kappamap):.4f}\")\n",
    "print(f\"  Range: {np.min(kappamap):.4f} to {np.max(kappamap):.4f}\")\n",
    "\n",
    "# Display the convergence map\n",
    "fig = plt.figure(figsize=(15, 10))\n",
    "\n",
    "# Full sky view\n",
    "plt.subplot(2, 2, 1)\n",
    "hp.mollview(kappamap, title=\"Convergence Map (Full Sky)\", cbar=True, hold=True)\n",
    "\n",
    "# Zoomed view around galaxy region\n",
    "lon_center = np.mean(catalogue['ra'])\n",
    "lat_center = np.mean(catalogue['dec'])\n",
    "lon_range = 20\n",
    "lat_range = 20\n",
    "\n",
    "plt.subplot(2, 2, 2)\n",
    "hp.cartview(kappamap, \n",
    "            lonra=[lon_center-lon_range/2, lon_center+lon_range/2], \n",
    "            latra=[lat_center-lat_range/2, lat_center+lat_range/2], \n",
    "            title='κ (Zoomed Region)', cbar=True, hold=True)\n",
    "\n",
    "plt.show()"
   ]
  },
  {
   "cell_type": "markdown",
   "metadata": {},
   "source": [
    "## Part 4: Applying Lensing Effects\n",
    "\n",
    "Now we'll apply the convergence to our galaxy sizes to simulate the lensing effect. This is the core of the forward modeling approach.\n",
    "\n",
    "### Mapping Galaxies to Convergence Values\n",
    "\n",
    "First, we need to determine which convergence value applies to each galaxy based on its position:"
   ]
  },
  {
   "cell_type": "code",
   "execution_count": null,
   "metadata": {},
   "outputs": [],
   "source": [
    "# Map galaxy positions to HEALPix pixels\n",
    "nside_galaxy = 256  # Higher resolution for galaxy positions\n",
    "galaxy_pixels = hp.ang2pix(nside_galaxy, catalogue['ra'], catalogue['dec'], lonlat=True)\n",
    "\n",
    "# Upgrade the convergence map to match galaxy resolution\n",
    "kappamap_highres = hp.ud_grade(kappamap, nside_galaxy)\n",
    "\n",
    "# Extract convergence values for each galaxy\n",
    "galaxy_kappa = kappamap_highres[galaxy_pixels]\n",
    "\n",
    "print(f\"Assigned convergence values to {len(catalogue)} galaxies\")\n",
    "print(f\"Galaxy κ statistics:\")\n",
    "print(f\"  Mean κ: {np.mean(galaxy_kappa):.4f}\")\n",
    "print(f\"  Std κ: {np.std(galaxy_kappa):.4f}\")\n",
    "print(f\"  Range: {np.min(galaxy_kappa):.4f} to {np.max(galaxy_kappa):.4f}\")"
   ]
  },
  {
   "cell_type": "markdown",
   "metadata": {},
   "source": [
    "### Computing Lensed Sizes\n",
    "\n",
    "Now we apply the fundamental lensing equation to compute the observed (lensed) galaxy sizes:"
   ]
  },
  {
   "cell_type": "code",
   "execution_count": null,
   "metadata": {},
   "outputs": [],
   "source": [
    "# Apply lensing: observed_size = intrinsic_size × (1 + κ)\n",
    "lensed_sizes = sizes_in_arcsec * (1 + galaxy_kappa)\n",
    "\n",
    "print(f\"🔬 Lensing Results:\")\n",
    "print(f\"Original mean size: {np.mean(sizes_in_arcsec):.4f} arcsec\")\n",
    "print(f\"Lensed mean size: {np.mean(lensed_sizes):.4f} arcsec\")\n",
    "print(f\"Mean magnification: {np.mean(1 + galaxy_kappa):.4f}\")\n",
    "print(f\"Fractional change: {(np.mean(lensed_sizes) - np.mean(sizes_in_arcsec))/np.mean(sizes_in_arcsec)*100:.2f}%\")"
   ]
  },
  {
   "cell_type": "markdown",
   "metadata": {},
   "source": [
    "### Visualizing the Lensing Effect\n",
    "\n",
    "Let's compare the original and lensed size distributions, and visualize how the galaxies appear on the sky:"
   ]
  },
  {
   "cell_type": "code",
   "execution_count": null,
   "metadata": {},
   "outputs": [],
   "source": [
    "# Create comparison plots\n",
    "fig, ((ax1, ax2), (ax3, ax4)) = plt.subplots(2, 2, figsize=(15, 12))\n",
    "\n",
    "# 1. Size distribution comparison\n",
    "ax1.hist(sizes_in_arcsec, bins=50, alpha=0.6, label=\"Original Sizes\", color=\"gray\", density=True)\n",
    "ax1.hist(lensed_sizes, bins=50, alpha=0.6, label=\"Lensed Sizes\", color=\"blue\", density=True)\n",
    "ax1.set_xlabel('Galaxy Size (arcsec)')\n",
    "ax1.set_ylabel('Probability Density')\n",
    "ax1.set_title('Size Distribution Comparison')\n",
    "ax1.legend()\n",
    "ax1.grid(True, alpha=0.3)\n",
    "\n",
    "# 2. Size vs convergence correlation\n",
    "ax2.scatter(galaxy_kappa, lensed_sizes/sizes_in_arcsec, alpha=0.5, s=1)\n",
    "ax2.plot([-0.01, 0.01], [0.99, 1.01], 'r--', linewidth=2, label='Expected: 1+κ')\n",
    "ax2.set_xlabel('Convergence κ')\n",
    "ax2.set_ylabel('Size Ratio (lensed/original)')\n",
    "ax2.set_title('Lensing Effect vs Convergence')\n",
    "ax2.legend()\n",
    "ax2.grid(True, alpha=0.3)\n",
    "\n",
    "# 3. Galaxy positions colored by original size\n",
    "scatter1 = ax3.scatter(catalogue['ra'], catalogue['dec'], \n",
    "                      c=sizes_in_arcsec, s=20, cmap='viridis', alpha=0.7)\n",
    "ax3.set_xlabel('Right Ascension (degrees)')\n",
    "ax3.set_ylabel('Declination (degrees)')\n",
    "ax3.set_title('Galaxy Positions (Original Sizes)')\n",
    "plt.colorbar(scatter1, ax=ax3, label='Size (arcsec)')\n",
    "\n",
    "# 4. Galaxy positions colored by convergence\n",
    "scatter2 = ax4.scatter(catalogue['ra'], catalogue['dec'], \n",
    "                      c=galaxy_kappa, s=20, cmap='RdBu_r', alpha=0.7)\n",
    "ax4.set_xlabel('Right Ascension (degrees)')\n",
    "ax4.set_ylabel('Declination (degrees)')\n",
    "ax4.set_title('Galaxy Positions (Convergence κ)')\n",
    "plt.colorbar(scatter2, ax=ax4, label='κ')\n",
    "\n",
    "plt.tight_layout()\n",
    "plt.show()"
   ]
  },
  {
   "cell_type": "markdown",
   "metadata": {},
   "source": [
    "## Part 5: Key Insights and Summary\n",
    "\n",
    "### What We've Learned\n",
    "\n",
    "1. **Convergence Effect**: The convergence κ directly affects galaxy sizes through the relation `observed_size = intrinsic_size × (1 + κ)`\n",
    "\n",
    "2. **Correlation Scales**: The convergence varies smoothly across the sky on scales much larger than typical galaxy separations\n",
    "\n",
    "3. **Statistical Approach**: While individual galaxy sizes are noisy, statistical comparisons of size distributions can reveal convergence information\n",
    "\n",
    "4. **Global vs Local**: The global size distribution changes very little with lensing, but local variations can be significant\n",
    "\n",
    "### Key Questions for Students\n",
    "\n",
    "💭 **Think about these questions:**\n",
    "\n",
    "1. Why does the global galaxy size distribution remain relatively unchanged by lensing?\n",
    "2. How could you detect convergence by comparing local vs global size distributions?\n",
    "3. What would happen if you had a much denser galaxy catalog?\n",
    "4. How might observational noise affect this analysis?\n",
    "\n",
    "### Next Steps\n",
    "\n",
    "In the next tutorials, you will learn:\n",
    "- How to generate realistic galaxy catalogues using GalSBI\n",
    "- How to work with redshift distributions and cosmological models\n",
    "- How to build estimators to recover convergence from size distributions\n",
    "- Advanced topics like lognormal models for κ"
   ]
  },
  {
   "cell_type": "code",
   "execution_count": null,
   "metadata": {},
   "outputs": [],
   "source": [
    "# Final summary statistics\n",
    "print(\"📋 TUTORIAL 1 SUMMARY\")\n",
    "print(\"=\" * 50)\n",
    "print(f\"Galaxies analyzed: {len(catalogue):,}\")\n",
    "print(f\"Sky area coverage: ~{(np.max(catalogue['ra']) - np.min(catalogue['ra'])) * (np.max(catalogue['dec']) - np.min(catalogue['dec'])):.1f} deg²\")\n",
    "print(f\"Mean convergence: {np.mean(galaxy_kappa):.4f}\")\n",
    "print(f\"RMS convergence: {np.std(galaxy_kappa):.4f}\")\n",
    "print(f\"Typical size change: {np.std(galaxy_kappa)*100:.2f}%\")\n",
    "print(\"\\n✅ You've completed Tutorial 1!\")\n",
    "print(\"🚀 Ready for Tutorial 2: Galaxy Catalogue Generation\")"
   ]
  }
 ],
 "metadata": {
  "kernelspec": {
   "display_name": "Python 3",
   "language": "python",
   "name": "python3"
  },
  "language_info": {
   "codemirror_mode": {
    "name": "ipython",
    "version": 3
   },
   "file_extension": ".py",
   "mimetype": "text/x-python",
   "name": "python",
   "nbconvert_exporter": "python",
   "pygments_lexer": "ipython3",
   "version": "3.8.5"
  }
 },
 "nbformat": 4,
 "nbformat_minor": 4
}